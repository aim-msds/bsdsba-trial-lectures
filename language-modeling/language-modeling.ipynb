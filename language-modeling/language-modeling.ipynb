{
 "cells": [
  {
   "cell_type": "markdown",
   "id": "5236bcb5",
   "metadata": {},
   "source": [
    "# Text Generation using Markov Chains <a class='tocSkip'>"
   ]
  },
  {
   "cell_type": "code",
   "execution_count": 1,
   "id": "9cd82da5",
   "metadata": {
    "ExecuteTime": {
     "end_time": "2023-04-14T14:40:59.427835Z",
     "start_time": "2023-04-14T14:40:57.735891Z"
    }
   },
   "outputs": [
    {
     "name": "stderr",
     "output_type": "stream",
     "text": [
      "[nltk_data] Downloading package reuters to /home/llorenzo/nltk_data...\n",
      "[nltk_data]   Package reuters is already up-to-date!\n",
      "[nltk_data] Downloading package punkt to /home/llorenzo/nltk_data...\n",
      "[nltk_data]   Package punkt is already up-to-date!\n",
      "[nltk_data] Downloading package shakespeare to\n",
      "[nltk_data]     /home/llorenzo/nltk_data...\n",
      "[nltk_data]   Package shakespeare is already up-to-date!\n"
     ]
    },
    {
     "data": {
      "text/plain": [
       "True"
      ]
     },
     "execution_count": 1,
     "metadata": {},
     "output_type": "execute_result"
    }
   ],
   "source": [
    "from nltk.corpus import reuters, shakespeare\n",
    "from nltk import bigrams, trigrams\n",
    "from collections import Counter, defaultdict\n",
    "import nltk\n",
    "nltk.download('reuters')\n",
    "nltk.download('punkt')\n",
    "nltk.download('shakespeare')"
   ]
  },
  {
   "cell_type": "code",
   "execution_count": 320,
   "id": "5683277a",
   "metadata": {
    "ExecuteTime": {
     "end_time": "2023-04-14T15:38:21.679034Z",
     "start_time": "2023-04-14T15:38:21.659485Z"
    }
   },
   "outputs": [],
   "source": [
    "import pandas as pd\n",
    "\n",
    "class MarkovChain:\n",
    "    def __init__(self, mode='bigrams'):\n",
    "        self.mode = mode\n",
    "        self.model = defaultdict(lambda: defaultdict(lambda: 0))\n",
    "\n",
    "    def add_corpus(self, sentences):\n",
    "        for sentence in sentences:\n",
    "            if self.mode == 'bigrams':\n",
    "                for w1, w2, w3 in trigrams(sentence, pad_right=True, pad_left=True):\n",
    "                    self.model[(w1, w2)][w3] += 1\n",
    "            elif self.mode == 'unigrams':\n",
    "                for w1, w2 in bigrams(sentence, pad_right=True, pad_left=True):\n",
    "                    self.model[(w1,)][w2] += 1\n",
    "\n",
    "    def trans_probability(self, text):\n",
    "        probs = pd.Series(self.model[tuple(text)])\n",
    "        probs = (probs / probs.sum()).to_frame('prob')\n",
    "        return probs\n",
    "\n",
    "    def next_word(self, text):\n",
    "        return self.trans_probability(text).sample(weights='prob').index[0]\n",
    "\n",
    "    def generate_sentence(self, text, maxwords=100):\n",
    "        sentence_finished = False\n",
    "\n",
    "        while not sentence_finished:\n",
    "            if self.mode == 'bigrams':\n",
    "                word = self.next_word(text[-2:])\n",
    "            elif self.mode == 'unigrams':\n",
    "                word = self.next_word(text[-1:])\n",
    "            text.append(word)\n",
    "\n",
    "            if text[-2:] == [None, None] and self.mode == 'bigrams':\n",
    "                sentence_finished = True\n",
    "            elif text[-1:] == [None] and self.mode == 'unigrams':\n",
    "                sentence_finished = True\n",
    "\n",
    "            if len(text) >= maxwords:\n",
    "                sentence_finished = True\n",
    "\n",
    "        text = ' '.join([t for t in text if t])\n",
    "\n",
    "        return text"
   ]
  },
  {
   "cell_type": "code",
   "execution_count": 321,
   "id": "a45008d9",
   "metadata": {
    "ExecuteTime": {
     "end_time": "2023-04-14T15:38:32.575126Z",
     "start_time": "2023-04-14T15:38:22.189248Z"
    }
   },
   "outputs": [],
   "source": [
    "reuters_model = MarkovChain()\n",
    "shakespeare_model = MarkovChain()\n",
    "\n",
    "reuters_model.add_corpus(reuters.sents())\n",
    "shakespeare_model.add_corpus(shakespeare_sents)"
   ]
  },
  {
   "cell_type": "code",
   "execution_count": 330,
   "id": "0f420138",
   "metadata": {
    "ExecuteTime": {
     "end_time": "2023-04-14T15:38:43.175765Z",
     "start_time": "2023-04-14T15:38:43.096299Z"
    },
    "scrolled": true
   },
   "outputs": [
    {
     "data": {
      "text/plain": [
       "'today the public as part of a stake in IPCO Corp common shares for 33 pct to 635 . 5 mln dlrs in quarter and 17 at the last two years as a way to spur domestic production is likely to be carried out on whether to affiliate Insituform Permaline Ltd to acquire some 80 pct ,\" Mohler said .'"
      ]
     },
     "execution_count": 330,
     "metadata": {},
     "output_type": "execute_result"
    }
   ],
   "source": [
    "reuters_model.generate_sentence(['today', 'the'])"
   ]
  },
  {
   "cell_type": "code",
   "execution_count": 331,
   "id": "af873847",
   "metadata": {
    "ExecuteTime": {
     "end_time": "2023-04-14T15:38:44.293197Z",
     "start_time": "2023-04-14T15:38:44.272640Z"
    },
    "scrolled": true
   },
   "outputs": [
    {
     "data": {
      "text/plain": [
       "'How do you hear ;'"
      ]
     },
     "execution_count": 331,
     "metadata": {},
     "output_type": "execute_result"
    }
   ],
   "source": [
    "shakespeare_model.generate_sentence(['How', 'do'])"
   ]
  },
  {
   "cell_type": "code",
   "execution_count": 332,
   "id": "5899e209",
   "metadata": {
    "ExecuteTime": {
     "end_time": "2023-04-14T15:38:45.246967Z",
     "start_time": "2023-04-14T15:38:45.237860Z"
    }
   },
   "outputs": [],
   "source": [
    "import re\n",
    "\n",
    "def create_corpus(corpus):\n",
    "    splitted_corpus = [re.split(r'\\b', sentence) for sentence in corpus.split('\\n') if sentence.strip()]\n",
    "    splitted_corpus = [[word.strip() for word in words if word.strip()] for words in splitted_corpus]\n",
    "\n",
    "    return splitted_corpus"
   ]
  },
  {
   "cell_type": "code",
   "execution_count": 376,
   "id": "9a0c2b71",
   "metadata": {
    "ExecuteTime": {
     "end_time": "2023-04-14T15:42:40.780029Z",
     "start_time": "2023-04-14T15:42:40.769448Z"
    }
   },
   "outputs": [],
   "source": [
    "corpus = create_corpus(\"\"\"\n",
    "Took a morning ride to the place\n",
    "Where you and I were supposed to meet\n",
    "The city yawns, they echo on\n",
    "My thoughts are spinning on and on my head\n",
    "It seems, they lead me back to you, ooh\n",
    "I keep coming back to you\n",
    "Took a morning ride, found a place up in my mind\n",
    "No one else can see\n",
    "Maybe, it's fate that we lose control\n",
    "In circles around, we go\n",
    "We become who we ought to know\n",
    "We just gotta let it go\n",
    "We just gotta let it go\n",
    "So, I'm coming home to you, ooh-ooh, ooh-ooh-ooh-ooh-ooh-ooh\n",
    "You, ooh-ooh, ooh-ooh-ooh-ooh-ooh-ooh\n",
    "You're all I need, the very air I breathe\n",
    "You are home, home\n",
    "Took a morning ride, gotta leave this all behind\n",
    "For with you is where I want to be\n",
    "Maybe, it's fate that we can't control (fate that we can't control)\n",
    "Oh, around and around, it goes ('round and around, it goes)\n",
    "And all that we seem to know (all that we seem to know)\n",
    "We just gotta let it go\n",
    "We just gotta let it go\n",
    "So, I'm coming home to you, ooh-ooh, ooh-ooh-ooh-ooh-ooh-ooh\n",
    "You, ooh-ooh, ooh-ooh-ooh-ooh-ooh-ooh\n",
    "You're all I need, the very air I breathe\n",
    "You are home, home\n",
    "So many questions I've thrown to the skies\n",
    "And all of the answers, I've found in your eyes\n",
    "When I'm with you, home is never too far\n",
    "And my weary heart has come to rest in yours\n",
    "I found my way home\n",
    "I found my way home\n",
    "I found my way home\n",
    "I found my way home\n",
    "I found my way home, I found my way home\n",
    "I found my way home, I found my way home\n",
    "I found my way home, I found my way home\n",
    "I found my way home\n",
    "So, I'm coming home to you, ooh-ooh, ooh-ooh-ooh-ooh-ooh-ooh\n",
    "You, ooh-ooh, ooh-ooh-ooh-ooh-ooh-ooh\n",
    "You're all I need, the very air I breathe\n",
    "You are home, home\n",
    "Coming home to you, ooh-ooh, ooh-ooh-ooh-ooh-ooh-ooh\n",
    "You, ooh-ooh, ooh-ooh-ooh-ooh-ooh-ooh\n",
    "You're all I need, the very air I breathe\n",
    "You are home\n",
    "\"\"\")"
   ]
  },
  {
   "cell_type": "code",
   "execution_count": 377,
   "id": "65c709ff",
   "metadata": {
    "ExecuteTime": {
     "end_time": "2023-04-14T15:42:42.551488Z",
     "start_time": "2023-04-14T15:42:42.543771Z"
    }
   },
   "outputs": [],
   "source": [
    "my_model = MarkovChain(mode='unigrams')\n",
    "my_model.add_corpus(corpus)"
   ]
  },
  {
   "cell_type": "code",
   "execution_count": 384,
   "id": "61199dbc",
   "metadata": {
    "ExecuteTime": {
     "end_time": "2023-04-14T15:42:49.592644Z",
     "start_time": "2023-04-14T15:42:49.539971Z"
    },
    "scrolled": true
   },
   "outputs": [
    {
     "data": {
      "text/plain": [
       "'I need , they lead me back to you , ooh - ooh - ooh - ooh - ooh - ooh - ooh - ooh - ooh'"
      ]
     },
     "execution_count": 384,
     "metadata": {},
     "output_type": "execute_result"
    }
   ],
   "source": [
    "my_model.generate_sentence(['I'])"
   ]
  },
  {
   "cell_type": "code",
   "execution_count": 20,
   "id": "5c907c59",
   "metadata": {
    "ExecuteTime": {
     "end_time": "2023-04-14T14:45:05.272493Z",
     "start_time": "2023-04-14T14:45:05.045504Z"
    }
   },
   "outputs": [],
   "source": [
    "import re\n",
    "\n",
    "plays = shakespeare.fileids()\n",
    "shakespeare_sents = []\n",
    "for play_name in plays:\n",
    "    play = shakespeare.xml(play_name)\n",
    "    sentences = []\n",
    "    for p in play:\n",
    "        sentences.extend(list(p.itertext()))\n",
    "    shakespeare_sents.extend([re.split(r'\\b', text) for text in sentences if text.strip()])"
   ]
  },
  {
   "cell_type": "code",
   "execution_count": 27,
   "id": "3f0f0289",
   "metadata": {
    "ExecuteTime": {
     "end_time": "2023-04-14T14:47:29.879193Z",
     "start_time": "2023-04-14T14:47:29.816360Z"
    }
   },
   "outputs": [],
   "source": [
    "shakespeare_sents = [[word.strip() for word in words if word.strip()] for words in shakespeare_sents]"
   ]
  }
 ],
 "metadata": {
  "kernelspec": {
   "display_name": "Python [conda env:.conda-bsdsba-lm]",
   "language": "python",
   "name": "conda-env-.conda-bsdsba-lm-py"
  },
  "language_info": {
   "codemirror_mode": {
    "name": "ipython",
    "version": 3
   },
   "file_extension": ".py",
   "mimetype": "text/x-python",
   "name": "python",
   "nbconvert_exporter": "python",
   "pygments_lexer": "ipython3",
   "version": "3.8.16"
  },
  "toc": {
   "base_numbering": 1,
   "nav_menu": {},
   "number_sections": true,
   "sideBar": true,
   "skip_h1_title": false,
   "title_cell": "Table of Contents",
   "title_sidebar": "Contents",
   "toc_cell": false,
   "toc_position": {},
   "toc_section_display": true,
   "toc_window_display": false
  }
 },
 "nbformat": 4,
 "nbformat_minor": 5
}
