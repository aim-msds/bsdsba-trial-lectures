{
 "cells": [
  {
   "cell_type": "markdown",
   "id": "5236bcb5",
   "metadata": {},
   "source": [
    "# Text Generation using Markov Chains <a class='tocSkip'>"
   ]
  },
  {
   "cell_type": "markdown",
   "id": "a3a131fa",
   "metadata": {},
   "source": [
    "<img src='images/cover.jpeg' width=550/>\n",
    "\n",
    "In this notebook, we will demonstrate how we can use the concept of Markov chains to generate texts automatically given a seed text input. To do this, we need a corpus of text containing sentences which we will use as training data for our Markov chain model. We will use three different datasets to create our Markov chain model.\n",
    "\n",
    "1. [NLTK Reuters Corpus](https://www.nltk.org/book/ch02.html)- contains 10,788 news documents totalling 1.3 million words.\n",
    "2. [NLTK Shakespeare corpus](https://www.nltk.org/howto/corpus.html#shakespeare) - contains a set of SHakespeare plays.\n",
    "3. Our own input text, whether it's your favorite song, poem, or novel."
   ]
  },
  {
   "cell_type": "code",
   "execution_count": null,
   "id": "775657f5",
   "metadata": {},
   "outputs": [],
   "source": [
    "!wget https://raw.githubusercontent.com/aim-msds/bsdsba-trial-lectures/main/language-modeling/markov.py\n",
    "!wget https://raw.githubusercontent.com/aim-msds/bsdsba-trial-lectures/main/language-modeling/utils.py"
   ]
  },
  {
   "cell_type": "code",
   "execution_count": 4,
   "id": "fffd12f5",
   "metadata": {
    "ExecuteTime": {
     "end_time": "2023-04-14T16:28:20.219851Z",
     "start_time": "2023-04-14T16:28:20.216824Z"
    }
   },
   "outputs": [],
   "source": [
    "from markov import MarkovChain\n",
    "from utils import create_corpus"
   ]
  },
  {
   "cell_type": "code",
   "execution_count": 7,
   "id": "8c6107ef",
   "metadata": {
    "ExecuteTime": {
     "end_time": "2023-04-14T16:29:10.411506Z",
     "start_time": "2023-04-14T16:29:10.407782Z"
    }
   },
   "outputs": [],
   "source": [
    "model = MarkovChain()"
   ]
  },
  {
   "cell_type": "code",
   "execution_count": 86,
   "id": "8cd61703",
   "metadata": {
    "ExecuteTime": {
     "end_time": "2023-04-14T17:01:25.076270Z",
     "start_time": "2023-04-14T17:01:25.068148Z"
    }
   },
   "outputs": [
    {
     "data": {
      "text/plain": [
       "[['Our', 'team', 'has', 'data', 'scientists', 'and', 'data', 'engineers', '.']]"
      ]
     },
     "execution_count": 86,
     "metadata": {},
     "output_type": "execute_result"
    }
   ],
   "source": [
    "corpus = create_corpus(\"\"\"\n",
    "Our team has data scientists and data engineers.\n",
    "\"\"\")\n",
    "\n",
    "corpus"
   ]
  },
  {
   "cell_type": "code",
   "execution_count": 9,
   "id": "bc997441",
   "metadata": {
    "ExecuteTime": {
     "end_time": "2023-04-14T16:29:16.382360Z",
     "start_time": "2023-04-14T16:29:16.379303Z"
    }
   },
   "outputs": [],
   "source": [
    "model.add_corpus(corpus)"
   ]
  },
  {
   "cell_type": "code",
   "execution_count": 20,
   "id": "d63c3a60",
   "metadata": {
    "ExecuteTime": {
     "end_time": "2023-04-14T16:30:43.446042Z",
     "start_time": "2023-04-14T16:30:43.434940Z"
    }
   },
   "outputs": [
    {
     "data": {
      "text/html": [
       "<div>\n",
       "<style scoped>\n",
       "    .dataframe tbody tr th:only-of-type {\n",
       "        vertical-align: middle;\n",
       "    }\n",
       "\n",
       "    .dataframe tbody tr th {\n",
       "        vertical-align: top;\n",
       "    }\n",
       "\n",
       "    .dataframe thead th {\n",
       "        text-align: right;\n",
       "    }\n",
       "</style>\n",
       "<table border=\"1\" class=\"dataframe\">\n",
       "  <thead>\n",
       "    <tr style=\"text-align: right;\">\n",
       "      <th></th>\n",
       "      <th>prob</th>\n",
       "    </tr>\n",
       "  </thead>\n",
       "  <tbody>\n",
       "    <tr>\n",
       "      <th>scientists</th>\n",
       "      <td>0.5</td>\n",
       "    </tr>\n",
       "    <tr>\n",
       "      <th>engineers</th>\n",
       "      <td>0.5</td>\n",
       "    </tr>\n",
       "  </tbody>\n",
       "</table>\n",
       "</div>"
      ],
      "text/plain": [
       "            prob\n",
       "scientists   0.5\n",
       "engineers    0.5"
      ]
     },
     "execution_count": 20,
     "metadata": {},
     "output_type": "execute_result"
    }
   ],
   "source": [
    "model.trans_probability(['data'])"
   ]
  },
  {
   "cell_type": "code",
   "execution_count": 27,
   "id": "c27ee60a",
   "metadata": {
    "ExecuteTime": {
     "end_time": "2023-04-14T16:32:47.376034Z",
     "start_time": "2023-04-14T16:32:47.307720Z"
    }
   },
   "outputs": [
    {
     "name": "stdout",
     "output_type": "stream",
     "text": [
      "1 engineers\n",
      "2 engineers\n",
      "3 scientists\n",
      "4 engineers\n",
      "5 scientists\n",
      "6 scientists\n",
      "7 scientists\n",
      "8 scientists\n",
      "9 scientists\n",
      "10 scientists\n"
     ]
    }
   ],
   "source": [
    "for i in range(10):\n",
    "    print(i + 1, model.next_word(['data']))"
   ]
  },
  {
   "cell_type": "code",
   "execution_count": 82,
   "id": "434ca195",
   "metadata": {
    "ExecuteTime": {
     "end_time": "2023-04-14T16:56:01.772219Z",
     "start_time": "2023-04-14T16:56:01.766125Z"
    }
   },
   "outputs": [],
   "source": [
    "model = MarkovChain(mode='bigrams')"
   ]
  },
  {
   "cell_type": "code",
   "execution_count": 83,
   "id": "9811db25",
   "metadata": {
    "ExecuteTime": {
     "end_time": "2023-04-14T16:56:07.367007Z",
     "start_time": "2023-04-14T16:56:07.361202Z"
    }
   },
   "outputs": [],
   "source": [
    "model.add_corpus(corpus)"
   ]
  },
  {
   "cell_type": "code",
   "execution_count": 84,
   "id": "f93df63e",
   "metadata": {
    "ExecuteTime": {
     "end_time": "2023-04-14T16:56:17.619403Z",
     "start_time": "2023-04-14T16:56:17.605229Z"
    }
   },
   "outputs": [
    {
     "data": {
      "text/html": [
       "<div>\n",
       "<style scoped>\n",
       "    .dataframe tbody tr th:only-of-type {\n",
       "        vertical-align: middle;\n",
       "    }\n",
       "\n",
       "    .dataframe tbody tr th {\n",
       "        vertical-align: top;\n",
       "    }\n",
       "\n",
       "    .dataframe thead th {\n",
       "        text-align: right;\n",
       "    }\n",
       "</style>\n",
       "<table border=\"1\" class=\"dataframe\">\n",
       "  <thead>\n",
       "    <tr style=\"text-align: right;\">\n",
       "      <th></th>\n",
       "      <th>prob</th>\n",
       "    </tr>\n",
       "  </thead>\n",
       "  <tbody>\n",
       "    <tr>\n",
       "      <th>scientists</th>\n",
       "      <td>1.0</td>\n",
       "    </tr>\n",
       "  </tbody>\n",
       "</table>\n",
       "</div>"
      ],
      "text/plain": [
       "            prob\n",
       "scientists   1.0"
      ]
     },
     "execution_count": 84,
     "metadata": {},
     "output_type": "execute_result"
    }
   ],
   "source": [
    "model.trans_probability(['has', 'data'])"
   ]
  },
  {
   "cell_type": "code",
   "execution_count": 85,
   "id": "c3aab9fa",
   "metadata": {
    "ExecuteTime": {
     "end_time": "2023-04-14T16:56:29.059936Z",
     "start_time": "2023-04-14T16:56:29.051139Z"
    }
   },
   "outputs": [
    {
     "data": {
      "text/html": [
       "<div>\n",
       "<style scoped>\n",
       "    .dataframe tbody tr th:only-of-type {\n",
       "        vertical-align: middle;\n",
       "    }\n",
       "\n",
       "    .dataframe tbody tr th {\n",
       "        vertical-align: top;\n",
       "    }\n",
       "\n",
       "    .dataframe thead th {\n",
       "        text-align: right;\n",
       "    }\n",
       "</style>\n",
       "<table border=\"1\" class=\"dataframe\">\n",
       "  <thead>\n",
       "    <tr style=\"text-align: right;\">\n",
       "      <th></th>\n",
       "      <th>prob</th>\n",
       "    </tr>\n",
       "  </thead>\n",
       "  <tbody>\n",
       "    <tr>\n",
       "      <th>engineers</th>\n",
       "      <td>1.0</td>\n",
       "    </tr>\n",
       "  </tbody>\n",
       "</table>\n",
       "</div>"
      ],
      "text/plain": [
       "           prob\n",
       "engineers   1.0"
      ]
     },
     "execution_count": 85,
     "metadata": {},
     "output_type": "execute_result"
    }
   ],
   "source": [
    "model.trans_probability(['and', 'data'])"
   ]
  },
  {
   "cell_type": "code",
   "execution_count": 42,
   "id": "f04b432d",
   "metadata": {
    "ExecuteTime": {
     "end_time": "2023-04-14T16:38:03.897369Z",
     "start_time": "2023-04-14T16:38:02.096615Z"
    }
   },
   "outputs": [
    {
     "name": "stderr",
     "output_type": "stream",
     "text": [
      "[nltk_data] Downloading package reuters to\n",
      "[nltk_data]     /Users/llorenzo/nltk_data...\n",
      "[nltk_data]   Package reuters is already up-to-date!\n",
      "[nltk_data] Downloading package punkt to /Users/llorenzo/nltk_data...\n",
      "[nltk_data]   Unzipping tokenizers/punkt.zip.\n"
     ]
    }
   ],
   "source": [
    "import nltk\n",
    "from nltk.corpus import reuters\n",
    "nltk.download('punkt')\n",
    "nltk.download('reuters')\n",
    "\n",
    "from utils import get_shakespeare_sents"
   ]
  },
  {
   "cell_type": "code",
   "execution_count": 47,
   "id": "579d9fb8",
   "metadata": {
    "ExecuteTime": {
     "end_time": "2023-04-14T16:40:34.418814Z",
     "start_time": "2023-04-14T16:40:34.131806Z"
    },
    "scrolled": false
   },
   "outputs": [],
   "source": [
    "shakespeare_sents = get_shakespeare_sents()"
   ]
  },
  {
   "cell_type": "code",
   "execution_count": 48,
   "id": "462a1691",
   "metadata": {
    "ExecuteTime": {
     "end_time": "2023-04-14T16:40:35.747587Z",
     "start_time": "2023-04-14T16:40:35.731525Z"
    }
   },
   "outputs": [
    {
     "name": "stdout",
     "output_type": "stream",
     "text": [
      "Number of sentences: 32975\n",
      "Number of words: 241336\n"
     ]
    },
    {
     "data": {
      "text/plain": [
       "[\"O ' erflows the measure : those his goodly eyes ,\",\n",
       " \"That o ' er the files and musters of the war\",\n",
       " \"Have glow ' d like plated Mars , now bend , now turn ,\",\n",
       " 'The office and devotion of their view',\n",
       " \"Upon a tawny front : his captain ' s heart ,\",\n",
       " 'Which in the scuffles of great fights hath burst',\n",
       " 'The buckles on his breast , reneges all temper ,',\n",
       " 'And is become the bellows and the fan',\n",
       " \"To cool a gipsy ' s lust .\",\n",
       " 'Flourish . Enter ANTONY , CLEOPATRA , her Ladies , the Train , with Eunuchs fanning her',\n",
       " 'Look , where they come :',\n",
       " 'Take but good note , and you shall see in him .',\n",
       " \"The triple pillar of the world transform ' d\",\n",
       " \"Into a strumpet ' s fool : behold and see .\",\n",
       " 'CLEOPATRA',\n",
       " 'If it be love indeed , tell me how much .',\n",
       " 'MARK ANTONY',\n",
       " \"There ' s beggary in the love that can be reckon ' d .\",\n",
       " 'CLEOPATRA',\n",
       " \"I ' ll set a bourn how far to be beloved .\"]"
      ]
     },
     "execution_count": 48,
     "metadata": {},
     "output_type": "execute_result"
    }
   ],
   "source": [
    "print(f\"Number of sentences: {len(shakespeare_sents)}\")\n",
    "print(f\"Number of words: {sum([len(sentence) for sentence in shakespeare_sents])}\")\n",
    "[' '.join(sentence) for sentence in shakespeare_sents[50:70]]"
   ]
  },
  {
   "cell_type": "code",
   "execution_count": 51,
   "id": "abaeb6cf",
   "metadata": {
    "ExecuteTime": {
     "end_time": "2023-04-14T16:41:46.177510Z",
     "start_time": "2023-04-14T16:41:46.044353Z"
    }
   },
   "outputs": [],
   "source": [
    "reuters_sents = reuters.sents()"
   ]
  },
  {
   "cell_type": "code",
   "execution_count": 55,
   "id": "3b14c62d",
   "metadata": {
    "ExecuteTime": {
     "end_time": "2023-04-14T16:42:17.646253Z",
     "start_time": "2023-04-14T16:42:15.738507Z"
    }
   },
   "outputs": [
    {
     "name": "stdout",
     "output_type": "stream",
     "text": [
      "Number of sentences: 54716\n",
      "Number of words: 1720917\n"
     ]
    },
    {
     "data": {
      "text/plain": [
       "[\"ASIAN EXPORTERS FEAR DAMAGE FROM U . S .- JAPAN RIFT Mounting trade friction between the U . S . And Japan has raised fears among many of Asia ' s exporting nations that the row could inflict far - reaching economic damage , businessmen and officials said .\",\n",
       " 'They told Reuter correspondents in Asian capitals a U . S . Move against Japan might boost protectionist sentiment in the U . S . And lead to curbs on American imports of their products .',\n",
       " \"But some exporters said that while the conflict would hurt them in the long - run , in the short - term Tokyo ' s loss might be their gain .\",\n",
       " \"The U . S . Has said it will impose 300 mln dlrs of tariffs on imports of Japanese electronics goods on April 17 , in retaliation for Japan ' s alleged failure to stick to a pact not to sell semiconductors on world markets at below cost .\",\n",
       " 'Unofficial Japanese estimates put the impact of the tariffs at 10 billion dlrs and spokesmen for major electronics firms said they would virtually halt exports of products hit by the new taxes .',\n",
       " '\" We wouldn \\' t be able to do business ,\" said a spokesman for leading Japanese electronics firm Matsushita Electric Industrial Co Ltd & lt ; MC . T >.',\n",
       " '\" If the tariffs remain in place for any length of time beyond a few months it will mean the complete erosion of exports ( of goods subject to tariffs ) to the U . S .,\" said Tom Murtha , a stock analyst at the Tokyo office of broker & lt ; James Capel and Co >.',\n",
       " 'In Taiwan , businessmen and officials are also worried .',\n",
       " '\" We are aware of the seriousness of the U . S .',\n",
       " 'Threat against Japan because it serves as a warning to us ,\" said a senior Taiwanese trade official who asked not to be named .']"
      ]
     },
     "execution_count": 55,
     "metadata": {},
     "output_type": "execute_result"
    }
   ],
   "source": [
    "print(f\"Number of sentences: {len(reuters_sents)}\")\n",
    "print(f\"Number of words: {sum([len(sentence) for sentence in reuters_sents])}\")\n",
    "[' '.join(sentence) for sentence in reuters_sents[:10]]"
   ]
  },
  {
   "cell_type": "code",
   "execution_count": 59,
   "id": "a45008d9",
   "metadata": {
    "ExecuteTime": {
     "end_time": "2023-04-14T16:43:32.060327Z",
     "start_time": "2023-04-14T16:43:32.056098Z"
    }
   },
   "outputs": [],
   "source": [
    "reuters_model = MarkovChain(mode='bigrams')\n",
    "shakespeare_model = MarkovChain(mode='bigrams')"
   ]
  },
  {
   "cell_type": "code",
   "execution_count": 60,
   "id": "aeb2b796",
   "metadata": {
    "ExecuteTime": {
     "end_time": "2023-04-14T16:43:37.384816Z",
     "start_time": "2023-04-14T16:43:32.742949Z"
    }
   },
   "outputs": [],
   "source": [
    "reuters_model.add_corpus(reuters_sents)\n",
    "shakespeare_model.add_corpus(shakespeare_sents)"
   ]
  },
  {
   "cell_type": "code",
   "execution_count": 80,
   "id": "5b3a1df5",
   "metadata": {
    "ExecuteTime": {
     "end_time": "2023-04-14T16:49:46.708237Z",
     "start_time": "2023-04-14T16:49:46.694652Z"
    }
   },
   "outputs": [
    {
     "data": {
      "text/html": [
       "<div>\n",
       "<style scoped>\n",
       "    .dataframe tbody tr th:only-of-type {\n",
       "        vertical-align: middle;\n",
       "    }\n",
       "\n",
       "    .dataframe tbody tr th {\n",
       "        vertical-align: top;\n",
       "    }\n",
       "\n",
       "    .dataframe thead th {\n",
       "        text-align: right;\n",
       "    }\n",
       "</style>\n",
       "<table border=\"1\" class=\"dataframe\">\n",
       "  <thead>\n",
       "    <tr style=\"text-align: right;\">\n",
       "      <th></th>\n",
       "      <th>prob</th>\n",
       "    </tr>\n",
       "  </thead>\n",
       "  <tbody>\n",
       "    <tr>\n",
       "      <th>spokesman</th>\n",
       "      <td>0.020067</td>\n",
       "    </tr>\n",
       "    <tr>\n",
       "      <th>senior</th>\n",
       "      <td>0.013378</td>\n",
       "    </tr>\n",
       "    <tr>\n",
       "      <th>feasibility</th>\n",
       "      <td>0.003344</td>\n",
       "    </tr>\n",
       "    <tr>\n",
       "      <th>new</th>\n",
       "      <td>0.040134</td>\n",
       "    </tr>\n",
       "    <tr>\n",
       "      <th>sudden</th>\n",
       "      <td>0.003344</td>\n",
       "    </tr>\n",
       "    <tr>\n",
       "      <th>...</th>\n",
       "      <td>...</td>\n",
       "    </tr>\n",
       "    <tr>\n",
       "      <th>reviving</th>\n",
       "      <td>0.003344</td>\n",
       "    </tr>\n",
       "    <tr>\n",
       "      <th>western</th>\n",
       "      <td>0.003344</td>\n",
       "    </tr>\n",
       "    <tr>\n",
       "      <th>Federal</th>\n",
       "      <td>0.003344</td>\n",
       "    </tr>\n",
       "    <tr>\n",
       "      <th>monitoring</th>\n",
       "      <td>0.003344</td>\n",
       "    </tr>\n",
       "    <tr>\n",
       "      <th>reduced</th>\n",
       "      <td>0.003344</td>\n",
       "    </tr>\n",
       "  </tbody>\n",
       "</table>\n",
       "<p>189 rows × 1 columns</p>\n",
       "</div>"
      ],
      "text/plain": [
       "                 prob\n",
       "spokesman    0.020067\n",
       "senior       0.013378\n",
       "feasibility  0.003344\n",
       "new          0.040134\n",
       "sudden       0.003344\n",
       "...               ...\n",
       "reviving     0.003344\n",
       "western      0.003344\n",
       "Federal      0.003344\n",
       "monitoring   0.003344\n",
       "reduced      0.003344\n",
       "\n",
       "[189 rows x 1 columns]"
      ]
     },
     "execution_count": 80,
     "metadata": {},
     "output_type": "execute_result"
    }
   ],
   "source": [
    "reuters_model.trans_probability(['said', 'a'])"
   ]
  },
  {
   "cell_type": "code",
   "execution_count": 76,
   "id": "f359e5c4",
   "metadata": {
    "ExecuteTime": {
     "end_time": "2023-04-14T16:48:50.529438Z",
     "start_time": "2023-04-14T16:48:50.512913Z"
    }
   },
   "outputs": [
    {
     "data": {
      "text/html": [
       "<div>\n",
       "<style scoped>\n",
       "    .dataframe tbody tr th:only-of-type {\n",
       "        vertical-align: middle;\n",
       "    }\n",
       "\n",
       "    .dataframe tbody tr th {\n",
       "        vertical-align: top;\n",
       "    }\n",
       "\n",
       "    .dataframe thead th {\n",
       "        text-align: right;\n",
       "    }\n",
       "</style>\n",
       "<table border=\"1\" class=\"dataframe\">\n",
       "  <thead>\n",
       "    <tr style=\"text-align: right;\">\n",
       "      <th></th>\n",
       "      <th>prob</th>\n",
       "    </tr>\n",
       "  </thead>\n",
       "  <tbody>\n",
       "    <tr>\n",
       "      <th>long</th>\n",
       "      <td>0.027778</td>\n",
       "    </tr>\n",
       "    <tr>\n",
       "      <th>,</th>\n",
       "      <td>0.027778</td>\n",
       "    </tr>\n",
       "    <tr>\n",
       "      <th>thee</th>\n",
       "      <td>0.305556</td>\n",
       "    </tr>\n",
       "    <tr>\n",
       "      <th>you</th>\n",
       "      <td>0.138889</td>\n",
       "    </tr>\n",
       "    <tr>\n",
       "      <th>so</th>\n",
       "      <td>0.027778</td>\n",
       "    </tr>\n",
       "    <tr>\n",
       "      <th>:</th>\n",
       "      <td>0.055556</td>\n",
       "    </tr>\n",
       "    <tr>\n",
       "      <th>not</th>\n",
       "      <td>0.027778</td>\n",
       "    </tr>\n",
       "    <tr>\n",
       "      <th>.</th>\n",
       "      <td>0.055556</td>\n",
       "    </tr>\n",
       "    <tr>\n",
       "      <th>passing</th>\n",
       "      <td>0.027778</td>\n",
       "    </tr>\n",
       "    <tr>\n",
       "      <th>him</th>\n",
       "      <td>0.083333</td>\n",
       "    </tr>\n",
       "    <tr>\n",
       "      <th>None</th>\n",
       "      <td>0.055556</td>\n",
       "    </tr>\n",
       "    <tr>\n",
       "      <th>Brutus</th>\n",
       "      <td>0.027778</td>\n",
       "    </tr>\n",
       "    <tr>\n",
       "      <th>her</th>\n",
       "      <td>0.027778</td>\n",
       "    </tr>\n",
       "    <tr>\n",
       "      <th>the</th>\n",
       "      <td>0.027778</td>\n",
       "    </tr>\n",
       "    <tr>\n",
       "      <th>;</th>\n",
       "      <td>0.027778</td>\n",
       "    </tr>\n",
       "    <tr>\n",
       "      <th>thy</th>\n",
       "      <td>0.027778</td>\n",
       "    </tr>\n",
       "    <tr>\n",
       "      <th>now</th>\n",
       "      <td>0.027778</td>\n",
       "    </tr>\n",
       "  </tbody>\n",
       "</table>\n",
       "</div>"
      ],
      "text/plain": [
       "             prob\n",
       "long     0.027778\n",
       ",        0.027778\n",
       "thee     0.305556\n",
       "you      0.138889\n",
       "so       0.027778\n",
       ":        0.055556\n",
       "not      0.027778\n",
       ".        0.055556\n",
       "passing  0.027778\n",
       "him      0.083333\n",
       "None     0.055556\n",
       "Brutus   0.027778\n",
       "her      0.027778\n",
       "the      0.027778\n",
       ";        0.027778\n",
       "thy      0.027778\n",
       "now      0.027778"
      ]
     },
     "execution_count": 76,
     "metadata": {},
     "output_type": "execute_result"
    }
   ],
   "source": [
    "shakespeare_model.trans_probability(['I', 'love'])"
   ]
  },
  {
   "cell_type": "code",
   "execution_count": 81,
   "id": "0f420138",
   "metadata": {
    "ExecuteTime": {
     "end_time": "2023-04-14T16:49:58.827179Z",
     "start_time": "2023-04-14T16:49:58.599353Z"
    },
    "scrolled": true
   },
   "outputs": [
    {
     "name": "stdout",
     "output_type": "stream",
     "text": [
      "1 said a high ranking delegation from the Red River in Fargo , Texas , which Allied expects to close its refinery system , Japanese goods may upset West European countries , consumer delegates said the country ' s stock .\n",
      "2 said a third liquidating dividend of its value in exports of 5 , 000 a year ago .\n",
      "3 said a resurgence in U . S . Stock market analysts had expected to pay dividends under New York exchanges a logical , but some were not disclosed .\n",
      "4 said a rise in January 1986 , the Treasury Secretary James Baker came under fire from critics who claimed he helped to provoke the Soviet Union bought 29 . 9 mln dlrs to 21 . 1 mln vs loss 1 . 9 pct last week to the U . S . goods would bypass the trade deficit increased by around half of the company ' s posted price as U . S ., Japan , has been suspended since the meeting .\n",
      "5 said a number of its outstanding common share resulting from the 50 mln dlrs , or three cts vs five cts vs loss 2 . 15 and April 13 to 16 . 8 mln vs 159 . 9 pct in first quarter , ended .\n",
      "6 said a decision on the low end of 1985 , Unocal said .\n",
      "7 said a slowdown in economic negotiations with it .\n",
      "8 said a peasant in the quarter based on evidence such as merchant shipping and storage handling systems .\n",
      "9 said a spermicide used in depreciation of the International Coffee Organization issued a report to shareholders of record March 17 will be paid by Unilever Plc & lt ; Mason Best Co >.\n",
      "10 said a drop from last season .\n"
     ]
    }
   ],
   "source": [
    "for i in range(10):\n",
    "    print(i + 1, reuters_model.generate_sentence(['said', 'a']))"
   ]
  },
  {
   "cell_type": "code",
   "execution_count": 75,
   "id": "af873847",
   "metadata": {
    "ExecuteTime": {
     "end_time": "2023-04-14T16:48:38.782487Z",
     "start_time": "2023-04-14T16:48:38.713602Z"
    },
    "scrolled": true
   },
   "outputs": [
    {
     "name": "stdout",
     "output_type": "stream",
     "text": [
      "1 I love thee not , my wife is fair . Good thou , save of joy and prosperity .\n",
      "2 I love you all , had done ' t , read it instantly .\n",
      "3 I love not to leave betimes ?\n",
      "4 I love the gentleman willing , shall we go ?\n",
      "5 I love thee after .\n",
      "6 I love him highly , not for himself to scape from it :\n",
      "7 I love Brutus , my lord ; I long to see .\n",
      "8 I love thee\n",
      "9 I love Brutus , are all out .\n",
      "10 I love passing well .'\n"
     ]
    }
   ],
   "source": [
    "for i in range(10):\n",
    "    print(i + 1, shakespeare_model.generate_sentence(['I', 'love']))"
   ]
  },
  {
   "cell_type": "code",
   "execution_count": 376,
   "id": "9a0c2b71",
   "metadata": {
    "ExecuteTime": {
     "end_time": "2023-04-14T15:42:40.780029Z",
     "start_time": "2023-04-14T15:42:40.769448Z"
    }
   },
   "outputs": [],
   "source": [
    "corpus = create_corpus(\"\"\"\n",
    "Took a morning ride to the place\n",
    "Where you and I were supposed to meet\n",
    "The city yawns, they echo on\n",
    "My thoughts are spinning on and on my head\n",
    "It seems, they lead me back to you, ooh\n",
    "I keep coming back to you\n",
    "Took a morning ride, found a place up in my mind\n",
    "No one else can see\n",
    "Maybe, it's fate that we lose control\n",
    "In circles around, we go\n",
    "We become who we ought to know\n",
    "We just gotta let it go\n",
    "We just gotta let it go\n",
    "So, I'm coming home to you, ooh-ooh, ooh-ooh-ooh-ooh-ooh-ooh\n",
    "You, ooh-ooh, ooh-ooh-ooh-ooh-ooh-ooh\n",
    "You're all I need, the very air I breathe\n",
    "You are home, home\n",
    "Took a morning ride, gotta leave this all behind\n",
    "For with you is where I want to be\n",
    "Maybe, it's fate that we can't control (fate that we can't control)\n",
    "Oh, around and around, it goes ('round and around, it goes)\n",
    "And all that we seem to know (all that we seem to know)\n",
    "We just gotta let it go\n",
    "We just gotta let it go\n",
    "So, I'm coming home to you, ooh-ooh, ooh-ooh-ooh-ooh-ooh-ooh\n",
    "You, ooh-ooh, ooh-ooh-ooh-ooh-ooh-ooh\n",
    "You're all I need, the very air I breathe\n",
    "You are home, home\n",
    "So many questions I've thrown to the skies\n",
    "And all of the answers, I've found in your eyes\n",
    "When I'm with you, home is never too far\n",
    "And my weary heart has come to rest in yours\n",
    "I found my way home\n",
    "I found my way home\n",
    "I found my way home\n",
    "I found my way home\n",
    "I found my way home, I found my way home\n",
    "I found my way home, I found my way home\n",
    "I found my way home, I found my way home\n",
    "I found my way home\n",
    "So, I'm coming home to you, ooh-ooh, ooh-ooh-ooh-ooh-ooh-ooh\n",
    "You, ooh-ooh, ooh-ooh-ooh-ooh-ooh-ooh\n",
    "You're all I need, the very air I breathe\n",
    "You are home, home\n",
    "Coming home to you, ooh-ooh, ooh-ooh-ooh-ooh-ooh-ooh\n",
    "You, ooh-ooh, ooh-ooh-ooh-ooh-ooh-ooh\n",
    "You're all I need, the very air I breathe\n",
    "You are home\n",
    "\"\"\")"
   ]
  },
  {
   "cell_type": "code",
   "execution_count": 377,
   "id": "65c709ff",
   "metadata": {
    "ExecuteTime": {
     "end_time": "2023-04-14T15:42:42.551488Z",
     "start_time": "2023-04-14T15:42:42.543771Z"
    }
   },
   "outputs": [],
   "source": [
    "my_model = MarkovChain(mode='unigrams')\n",
    "my_model.add_corpus(corpus)"
   ]
  },
  {
   "cell_type": "code",
   "execution_count": 384,
   "id": "61199dbc",
   "metadata": {
    "ExecuteTime": {
     "end_time": "2023-04-14T15:42:49.592644Z",
     "start_time": "2023-04-14T15:42:49.539971Z"
    },
    "scrolled": false
   },
   "outputs": [
    {
     "data": {
      "text/plain": [
       "'I need , they lead me back to you , ooh - ooh - ooh - ooh - ooh - ooh - ooh - ooh - ooh'"
      ]
     },
     "execution_count": 384,
     "metadata": {},
     "output_type": "execute_result"
    }
   ],
   "source": [
    "my_model.generate_sentence(['I'])"
   ]
  }
 ],
 "metadata": {
  "kernelspec": {
   "display_name": "Python 3 (ipykernel)",
   "language": "python",
   "name": "python3"
  },
  "language_info": {
   "codemirror_mode": {
    "name": "ipython",
    "version": 3
   },
   "file_extension": ".py",
   "mimetype": "text/x-python",
   "name": "python",
   "nbconvert_exporter": "python",
   "pygments_lexer": "ipython3",
   "version": "3.8.16"
  },
  "toc": {
   "base_numbering": 1,
   "nav_menu": {},
   "number_sections": true,
   "sideBar": true,
   "skip_h1_title": false,
   "title_cell": "Table of Contents",
   "title_sidebar": "Contents",
   "toc_cell": false,
   "toc_position": {},
   "toc_section_display": true,
   "toc_window_display": false
  }
 },
 "nbformat": 4,
 "nbformat_minor": 5
}
